{
 "cells": [
  {
   "cell_type": "markdown",
   "metadata": {},
   "source": [
    "# MLflow Train Wine Quality Notebook\n",
    "This is a Quick Start notebook.\n",
    "* It is based on [train.py](https://github.com/databricks/mlflow/blob/master/example/tutorial/train.py) from [MLflow's tutorial](https://mlflow.org/docs/latest/tutorial.html). \n",
    "* It creates runs in the experiment \"sklearn_wine\".\n"
   ]
  },
  {
   "cell_type": "code",
   "execution_count": 16,
   "metadata": {},
   "outputs": [
    {
     "name": "stdout",
     "output_type": "stream",
     "text": [
      "MLflow Version: 1.2.0\n"
     ]
    },
    {
     "data": {
      "text/plain": [
       "'http://localhost:5000'"
      ]
     },
     "execution_count": 16,
     "metadata": {},
     "output_type": "execute_result"
    }
   ],
   "source": [
    "import mlflow\n",
    "\n",
    "mlflow.set_tracking_uri(\"http://localhost:5000\")\n",
    "print(\"MLflow Version:\",mlflow.version.VERSION)\n",
    "mlflow.tracking.get_tracking_uri()"
   ]
  },
  {
   "cell_type": "code",
   "execution_count": 2,
   "metadata": {},
   "outputs": [],
   "source": [
    "def now():\n",
    "    import time\n",
    "    now = int(time.time()+.5)\n",
    "    return time.strftime(\"%Y-%m-%d %H:%M:%S\", time.gmtime(now))"
   ]
  },
  {
   "cell_type": "code",
   "execution_count": 3,
   "metadata": {},
   "outputs": [
    {
     "name": "stdout",
     "output_type": "stream",
     "text": [
      "Run Start: 2019-08-25 18:06:23\n"
     ]
    }
   ],
   "source": [
    "print(\"Run Start:\",now())"
   ]
  },
  {
   "cell_type": "code",
   "execution_count": 4,
   "metadata": {},
   "outputs": [],
   "source": [
    "experiment_name = \"sklearn_wine\"\n",
    "data_path = \"../../data/wine-quality/wine-quality-white.csv\"\n",
    "data_url = \"https://raw.githubusercontent.com/mlflow/mlflow/master/examples/sklearn_elasticnet_wine/wine-quality.csv\"\n",
    "run_origin = \"jupyter\""
   ]
  },
  {
   "cell_type": "code",
   "execution_count": 5,
   "metadata": {},
   "outputs": [
    {
     "name": "stdout",
     "output_type": "stream",
     "text": [
      "MLflow Version: 1.2.0\n",
      "experiment_id: 2\n",
      "experiment_name: sklearn_wine\n"
     ]
    }
   ],
   "source": [
    "mlflow.set_experiment(experiment_name)\n",
    "mlflow_client = mlflow.tracking.MlflowClient()\n",
    "experiment_id = mlflow_client.get_experiment_by_name(experiment_name).experiment_id\n",
    "print(\"experiment_id:\",experiment_id)\n",
    "print(\"experiment_name:\",experiment_name)"
   ]
  },
  {
   "cell_type": "code",
   "execution_count": 6,
   "metadata": {},
   "outputs": [
    {
     "name": "stdout",
     "output_type": "stream",
     "text": [
      "File ../../data/wine-quality/wine-quality-white.csv already exists\n"
     ]
    }
   ],
   "source": [
    "import os\n",
    "import requests\n",
    "\n",
    "if not os.path.exists(data_path):\n",
    "    print(\"Downloading {} to {}\".format(data_url,data_path))\n",
    "    rsp = requests.get(data_url)\n",
    "    with open(data_path, 'w') as f:\n",
    "        f.write(rsp.text)\n",
    "else:\n",
    "    print(\"File {} already exists\".format(data_path))"
   ]
  },
  {
   "cell_type": "markdown",
   "metadata": {},
   "source": [
    "#### Write your ML code based on the`train.py` code\n",
    "This tutorial is based on the MLflow's example [train.py](https://github.com/databricks/mlflow/blob/master/example/tutorial/train.py), which uses an external [wine-quality.csv](https://github.com/databricks/mlflow/blob/master/example/tutorial/wine-quality.csv) dataset to predict wine quality."
   ]
  },
  {
   "cell_type": "code",
   "execution_count": 7,
   "metadata": {},
   "outputs": [],
   "source": [
    "# The data set used in this example is from http://archive.ics.uci.edu/ml/datasets/Wine+Quality\n",
    "# P. Cortez, A. Cerdeira, F. Almeida, T. Matos and J. Reis.\n",
    "# Modeling wine preferences by data mining from physicochemical properties. In Decision Support Systems, Elsevier, 47(4):547-553, 2009.\n",
    "\n",
    "import sys\n",
    "import os\n",
    "import platform\n",
    "import warnings\n",
    "\n",
    "import pandas as pd\n",
    "import numpy as np\n",
    "from sklearn.metrics import mean_squared_error, mean_absolute_error, r2_score\n",
    "from sklearn.model_selection import train_test_split\n",
    "from sklearn.tree import DecisionTreeRegressor\n",
    "\n",
    "import mlflow\n",
    "import mlflow.sklearn"
   ]
  },
  {
   "cell_type": "code",
   "execution_count": 8,
   "metadata": {},
   "outputs": [],
   "source": [
    "def eval_metrics(actual, pred):\n",
    "    rmse = np.sqrt(mean_squared_error(actual, pred))\n",
    "    mae = mean_absolute_error(actual, pred)\n",
    "    r2 = r2_score(actual, pred)\n",
    "    return rmse, mae, r2"
   ]
  },
  {
   "cell_type": "code",
   "execution_count": 9,
   "metadata": {},
   "outputs": [],
   "source": [
    "import numpy as np\n",
    "import matplotlib.pyplot as plt\n",
    "\n",
    "def create_plot_file(y_test_set, y_predicted, plot_file):\n",
    "    global image\n",
    "    fig, ax = plt.subplots()\n",
    "    ax.scatter(y_test_set, y_predicted, edgecolors=(0, 0, 0))\n",
    "    ax.plot([y_test_set.min(), y_test_set.max()], [y_test_set.min(), y_test_set.max()], 'k--', lw=4)\n",
    "    ax.set_xlabel('Actual')\n",
    "    ax.set_ylabel('Predicted')\n",
    "    ax.set_title(\"Ground Truth vs Predicted\")\n",
    "    #plt.show()\n",
    "\n",
    "    image = fig\n",
    "    fig.savefig(plot_file)\n",
    "    plt.close(fig)                    "
   ]
  },
  {
   "cell_type": "code",
   "execution_count": 10,
   "metadata": {},
   "outputs": [],
   "source": [
    "data = pd.read_csv(data_path)\n",
    "train, test = train_test_split(data)\n",
    "# The predicted column is \"quality\" which is a scalar from [3, 9]\n",
    "train_x = train.drop([\"quality\"], axis=1)\n",
    "test_x = test.drop([\"quality\"], axis=1)\n",
    "train_y = train[[\"quality\"]]\n",
    "test_y = test[[\"quality\"]]"
   ]
  },
  {
   "cell_type": "code",
   "execution_count": 11,
   "metadata": {},
   "outputs": [],
   "source": [
    "def train(max_depth, max_leaf_nodes):\n",
    "    with mlflow.start_run(run_name=run_origin) as run:\n",
    "        run_id = run.info.run_uuid\n",
    "        experiment_id = run.info.experiment_id\n",
    "        print(\"MLflow:\")\n",
    "        print(\"  run_id:\",run_id)\n",
    "        print(\"  experiment_id:\",experiment_id)\n",
    "\n",
    "        # Create model\n",
    "        dt = DecisionTreeRegressor(max_depth=max_depth, max_leaf_nodes=max_leaf_nodes)\n",
    "        print(\"Model:\",dt)\n",
    "\n",
    "        # Fit and predict\n",
    "        dt.fit(train_x, train_y)\n",
    "        predictions = dt.predict(test_x)\n",
    "\n",
    "        # MLflow params\n",
    "        print(\"Parameters:\")\n",
    "        print(\"  max_depth:\",max_depth)\n",
    "        print(\"  max_leaf_nodes:\",max_leaf_nodes)\n",
    "        mlflow.log_param(\"max_depth\", max_depth)\n",
    "        mlflow.log_param(\"max_leaf_nodes\", max_leaf_nodes)\n",
    "\n",
    "        # MLflow metrics\n",
    "        rmse = np.sqrt(mean_squared_error(test_y, predictions))\n",
    "        mae = mean_absolute_error(test_y, predictions)\n",
    "        r2 = r2_score(test_y, predictions)\n",
    "        print(\"Metrics:\")\n",
    "        print(\"  rmse:\",rmse)\n",
    "        print(\"  mae:\",mae)\n",
    "        print(\"  r2:\",r2)\n",
    "        mlflow.log_metric(\"rmse\", rmse)\n",
    "        mlflow.log_metric(\"r2\", r2)\n",
    "        mlflow.log_metric(\"mae\", mae)\n",
    "        \n",
    "        # MLflow tags\n",
    "        mlflow.set_tag(\"mlflow.runName\",run_origin) # mlflow CLI picks this up\n",
    "        mlflow.set_tag(\"data_path\", data_path)\n",
    "        mlflow.set_tag(\"exp_id\", experiment_id)\n",
    "        mlflow.set_tag(\"exp_name\", experiment_name)\n",
    "        mlflow.set_tag(\"run_origin\", run_origin)\n",
    "        mlflow.set_tag(\"platform\", platform.system())\n",
    "\n",
    "        # MLflow log model\n",
    "        mlflow.sklearn.log_model(dt, \"sklearn-model\")\n",
    "\n",
    "        # MLflow log plot file artifact\n",
    "        create_plot_file(test_y, predictions, \"plot.png\")\n",
    "        mlflow.log_artifact(\"plot.png\")\n",
    "\n",
    "    return (experiment_id,run_id)"
   ]
  },
  {
   "cell_type": "code",
   "execution_count": 12,
   "metadata": {},
   "outputs": [
    {
     "name": "stdout",
     "output_type": "stream",
     "text": [
      "MLflow:\n",
      "  run_id: b9abaffea0e3461680a751aa366ea772\n",
      "  experiment_id: 2\n",
      "Model: DecisionTreeRegressor(criterion='mse', max_depth=2, max_features=None,\n",
      "                      max_leaf_nodes=16, min_impurity_decrease=0.0,\n",
      "                      min_impurity_split=None, min_samples_leaf=1,\n",
      "                      min_samples_split=2, min_weight_fraction_leaf=0.0,\n",
      "                      presort=False, random_state=None, splitter='best')\n",
      "Parameters:\n",
      "  max_depth: 2\n",
      "  max_leaf_nodes: 16\n",
      "Metrics:\n",
      "  rmse: 0.7579987076338718\n",
      "  mae: 0.6121287106846993\n",
      "  r2: 0.2564761417250073\n"
     ]
    },
    {
     "data": {
      "text/plain": [
       "('2', 'b9abaffea0e3461680a751aa366ea772')"
      ]
     },
     "execution_count": 12,
     "metadata": {},
     "output_type": "execute_result"
    }
   ],
   "source": [
    "train(2,16)"
   ]
  },
  {
   "cell_type": "code",
   "execution_count": 13,
   "metadata": {},
   "outputs": [
    {
     "name": "stdout",
     "output_type": "stream",
     "text": [
      "Run End: 2019-08-25 18:06:24\n"
     ]
    }
   ],
   "source": [
    "print(\"Run End:\",now())"
   ]
  }
 ],
 "metadata": {
  "kernelspec": {
   "display_name": "mlflow-1.2.0",
   "language": "python",
   "name": "mlflow-1.2.0"
  },
  "language_info": {
   "codemirror_mode": {
    "name": "ipython",
    "version": 3
   },
   "file_extension": ".py",
   "mimetype": "text/x-python",
   "name": "python",
   "nbconvert_exporter": "python",
   "pygments_lexer": "ipython3",
   "version": "3.6.9"
  },
  "name": "Train Wine Quality",
  "notebookId": 1406514
 },
 "nbformat": 4,
 "nbformat_minor": 1
}
