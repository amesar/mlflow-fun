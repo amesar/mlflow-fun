{
 "cells": [
  {
   "cell_type": "markdown",
   "metadata": {},
   "source": [
    "# MLflow Train Wine Quality Notebook\n",
    "This is a Quick Start notebook.\n",
    "* It is based on [train.py](https://github.com/databricks/mlflow/blob/master/example/tutorial/train.py) from [MLflow's tutorial](https://mlflow.org/docs/latest/tutorial.html). \n",
    "* It creates runs in the experiment \"py/sk/ElasticNet/WineQuality\".\n"
   ]
  },
  {
   "cell_type": "code",
   "execution_count": 36,
   "metadata": {},
   "outputs": [
    {
     "data": {
      "text/plain": [
       "'http://localhost:5000'"
      ]
     },
     "execution_count": 36,
     "metadata": {},
     "output_type": "execute_result"
    }
   ],
   "source": [
    "from __future__ import print_function\n",
    "import mlflow\n",
    "\n",
    "mlflow.set_tracking_uri(\"http://localhost:5000\")\n",
    "mlflow.tracking.get_tracking_uri()"
   ]
  },
  {
   "cell_type": "code",
   "execution_count": 37,
   "metadata": {},
   "outputs": [],
   "source": [
    "def now():\n",
    "    now = int(time.time()+.5)\n",
    "    dt = time.strftime(\"%Y-%m-%d_%H:%M:%S\", time.gmtime(now))\n",
    "    return dt"
   ]
  },
  {
   "cell_type": "code",
   "execution_count": 38,
   "metadata": {},
   "outputs": [
    {
     "name": "stdout",
     "output_type": "stream",
     "text": [
      "Run Start: 2019-03-26_02:10:09\n"
     ]
    }
   ],
   "source": [
    "print(\"Run Start:\",now())"
   ]
  },
  {
   "cell_type": "code",
   "execution_count": 39,
   "metadata": {},
   "outputs": [],
   "source": [
    "experiment_name = \"py/sk/ElasticNet/WineQuality\"\n",
    "wine_data_path = \"./data/wine-quality-white.csv\"\n",
    "wine_data_url = \"https://raw.githubusercontent.com/mlflow/mlflow/master/examples/sklearn_elasticnet_wine/wine-quality.csv\"\n",
    "run_origin = \"jupyter\""
   ]
  },
  {
   "cell_type": "code",
   "execution_count": 40,
   "metadata": {},
   "outputs": [
    {
     "name": "stdout",
     "output_type": "stream",
     "text": [
      "MLflow Version: 0.8.2\n",
      "experiment_id: 5\n",
      "experiment_name: py/sk/ElasticNet/WineQuality\n"
     ]
    }
   ],
   "source": [
    "import mlflow\n",
    "print(\"MLflow Version:\",mlflow.version.VERSION)\n",
    "mlflow.set_experiment(experiment_name)\n",
    "mlflow_client = mlflow.tracking.MlflowClient()\n",
    "experiment_id = mlflow_client.get_experiment_by_name(experiment_name).experiment_id\n",
    "print(\"experiment_id:\",experiment_id)\n",
    "print(\"experiment_name:\",experiment_name)"
   ]
  },
  {
   "cell_type": "code",
   "execution_count": 41,
   "metadata": {},
   "outputs": [],
   "source": [
    "import os\n",
    "import requests\n",
    "\n",
    "if not os.path.exists(wine_data_path):\n",
    "    print(\"Downloading {} to {}\".format(wine_data_url,wine_data_path))\n",
    "    rsp = requests.get(wine_data_url)\n",
    "    with open(wine_data_path, 'w') as f:\n",
    "        f.write(rsp.text)"
   ]
  },
  {
   "cell_type": "markdown",
   "metadata": {},
   "source": [
    "#### Write your ML code based on the`train.py` code\n",
    "This tutorial is based on the MLflow's example [train.py](https://github.com/databricks/mlflow/blob/master/example/tutorial/train.py), which uses an external [wine-quality.csv](https://github.com/databricks/mlflow/blob/master/example/tutorial/wine-quality.csv) dataset to predict wine quality."
   ]
  },
  {
   "cell_type": "code",
   "execution_count": 42,
   "metadata": {},
   "outputs": [],
   "source": [
    "# The data set used in this example is from http://archive.ics.uci.edu/ml/datasets/Wine+Quality\n",
    "# P. Cortez, A. Cerdeira, F. Almeida, T. Matos and J. Reis.\n",
    "# Modeling wine preferences by data mining from physicochemical properties. In Decision Support Systems, Elsevier, 47(4):547-553, 2009.\n",
    "\n",
    "import os\n",
    "import warnings\n",
    "import sys\n",
    "\n",
    "import pandas as pd\n",
    "import numpy as np\n",
    "from sklearn.metrics import mean_squared_error, mean_absolute_error, r2_score\n",
    "from sklearn.model_selection import train_test_split\n",
    "from sklearn.linear_model import ElasticNet\n",
    "\n",
    "import mlflow\n",
    "import mlflow.sklearn\n",
    "\n",
    "def eval_metrics(actual, pred):\n",
    "    rmse = np.sqrt(mean_squared_error(actual, pred))\n",
    "    mae = mean_absolute_error(actual, pred)\n",
    "    r2 = r2_score(actual, pred)\n",
    "    return rmse, mae, r2"
   ]
  },
  {
   "cell_type": "code",
   "execution_count": 43,
   "metadata": {},
   "outputs": [],
   "source": [
    "from sklearn.linear_model import enet_path\n",
    "import matplotlib.pyplot as plt\n",
    "from itertools import cycle\n",
    "\n",
    "def plot_enet_descent_path(X, y, l1_ratio, plot_file):\n",
    "    # Compute paths\n",
    "    eps = 5e-3  # the smaller it is the longer is the path\n",
    "\n",
    "    # Reference the global image variable\n",
    "    global image\n",
    "    \n",
    "    print(\"Computing regularization path using the elastic net.\")\n",
    "    alphas_enet, coefs_enet, _ = enet_path(X, y, eps=eps, l1_ratio=l1_ratio, fit_intercept=False)\n",
    "\n",
    "    # Display results\n",
    "    fig = plt.figure(1)\n",
    "    ax = plt.gca()\n",
    "\n",
    "    colors = cycle(['b', 'r', 'g', 'c', 'k'])\n",
    "    neg_log_alphas_enet = -np.log10(alphas_enet)\n",
    "    for coef_e, c in zip(coefs_enet, colors):\n",
    "        l1 = plt.plot(neg_log_alphas_enet, coef_e, linestyle='--', c=c)\n",
    "\n",
    "    plt.xlabel('-Log(alpha)')\n",
    "    plt.ylabel('coefficients')\n",
    "    title = 'ElasticNet Path by alpha for l1_ratio = ' + str(l1_ratio)\n",
    "    plt.title(title)\n",
    "    plt.axis('tight')\n",
    "\n",
    "    image = fig\n",
    "    fig.savefig(plot_file)\n",
    "    plt.close(fig)\n",
    "    return image   "
   ]
  },
  {
   "cell_type": "code",
   "execution_count": 44,
   "metadata": {},
   "outputs": [],
   "source": [
    "def train(alpha, l1_ratio):\n",
    "    warnings.filterwarnings(\"ignore\")\n",
    "    np.random.seed(40)\n",
    "\n",
    "    data = pd.read_csv(wine_data_path)\n",
    "\n",
    "    # Split the data into training and test sets. (0.75, 0.25) split.\n",
    "    train, test = train_test_split(data)\n",
    "\n",
    "    # The predicted column is \"quality\" which is a scalar from [3, 9]\n",
    "    train_x = train.drop([\"quality\"], axis=1)\n",
    "    test_x = test.drop([\"quality\"], axis=1)\n",
    "    train_y = train[[\"quality\"]]\n",
    "    test_y = test[[\"quality\"]]\n",
    "    with mlflow.start_run() as run:\n",
    "        run_id = run.info.run_uuid\n",
    "        print(\"run_id:\",run_id)\n",
    "        print(\"run_origin:\",run_origin)\n",
    "        clf = ElasticNet(alpha=alpha, l1_ratio=l1_ratio, random_state=42)\n",
    "        clf.fit(train_x, train_y)\n",
    "\n",
    "        predicted_qualities = clf.predict(test_x)\n",
    "        (rmse, mae, r2) = eval_metrics(test_y, predicted_qualities)\n",
    "\n",
    "        print(\"Elasticnet model (alpha={}, l1_ratio={}):\".format(alpha, l1_ratio))\n",
    "        print(\"  RMSE:\",rmse)\n",
    "        print(\"  MAE:\",mae)\n",
    "        print(\"  R2:\",r2)\n",
    "\n",
    "        mlflow.log_param(\"alpha\", alpha)\n",
    "        mlflow.log_param(\"l1_ratio\", l1_ratio)\n",
    "        mlflow.log_param(\"run_origin\", run_origin)\n",
    "        mlflow.log_metric(\"rmse\", rmse)\n",
    "        mlflow.log_metric(\"r2\", r2)\n",
    "        mlflow.log_metric(\"mae\", mae)\n",
    "\n",
    "        mlflow.sklearn.log_model(clf, \"model\")\n",
    "        \n",
    "        X = data.drop([\"quality\"], axis=1).values\n",
    "        y = data[[\"quality\"]].values.ravel()\n",
    "        plot_file = \"wine_quality.png\"\n",
    "        plot_enet_descent_path(X, y, l1_ratio, plot_file)\n",
    "        mlflow.log_artifact(plot_file)\n",
    "        \n",
    "        return (rmse,r2,mae)"
   ]
  },
  {
   "cell_type": "code",
   "execution_count": 45,
   "metadata": {},
   "outputs": [
    {
     "name": "stdout",
     "output_type": "stream",
     "text": [
      "run_id: d8b189ad970e44f4978c5b19bbf6fa1e\n",
      "run_origin: jupyter\n",
      "Elasticnet model (alpha=0.1, l1_ratio=0.1):\n",
      "  RMSE: 0.7792546522251949\n",
      "  MAE: 0.6112547988118587\n",
      "  R2: 0.2157063843066196\n",
      "Computing regularization path using the elastic net.\n"
     ]
    },
    {
     "data": {
      "text/plain": [
       "(0.7792546522251949, 0.2157063843066196, 0.6112547988118587)"
      ]
     },
     "execution_count": 45,
     "metadata": {},
     "output_type": "execute_result"
    }
   ],
   "source": [
    "train(0.1, 0.1)"
   ]
  },
  {
   "cell_type": "code",
   "execution_count": 46,
   "metadata": {},
   "outputs": [
    {
     "name": "stdout",
     "output_type": "stream",
     "text": [
      "Run End: 2019-03-26_02:10:10\n"
     ]
    }
   ],
   "source": [
    "print(\"Run End:\",now())"
   ]
  }
 ],
 "metadata": {
  "kernelspec": {
   "display_name": "Python 3",
   "language": "python",
   "name": "python3"
  },
  "language_info": {
   "codemirror_mode": {
    "name": "ipython",
    "version": 3
   },
   "file_extension": ".py",
   "mimetype": "text/x-python",
   "name": "python",
   "nbconvert_exporter": "python",
   "pygments_lexer": "ipython3",
   "version": "3.6.8"
  },
  "name": "Train Wine Quality",
  "notebookId": 1406514
 },
 "nbformat": 4,
 "nbformat_minor": 1
}
