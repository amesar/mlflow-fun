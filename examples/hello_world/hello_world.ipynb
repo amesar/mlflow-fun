{
 "cells": [
  {
   "cell_type": "markdown",
   "metadata": {},
   "source": [
    "## Hello World MLflow"
   ]
  },
  {
   "cell_type": "code",
   "execution_count": 1,
   "metadata": {},
   "outputs": [
    {
     "name": "stdout",
     "output_type": "stream",
     "text": [
      "MLflow Version: 1.0.0\n"
     ]
    }
   ],
   "source": [
    "import mlflow\n",
    "print(\"MLflow Version:\", mlflow.version.VERSION)"
   ]
  },
  {
   "cell_type": "code",
   "execution_count": 2,
   "metadata": {},
   "outputs": [
    {
     "data": {
      "text/plain": [
       "'http://localhost:5000'"
      ]
     },
     "execution_count": 2,
     "metadata": {},
     "output_type": "execute_result"
    }
   ],
   "source": [
    "# Either set the following in your terminal:\n",
    "#   export MLFLOW_TRACKING_URI=http://localhost:5000\n",
    "# or use the following: \n",
    "\n",
    "mlflow.set_tracking_uri(\"http://localhost:5000\")\n",
    "mlflow.tracking.get_tracking_uri()"
   ]
  },
  {
   "cell_type": "code",
   "execution_count": 3,
   "metadata": {},
   "outputs": [],
   "source": [
    "def run(alpha, run_origin, log_artifact):\n",
    "    with mlflow.start_run(run_name=run_origin) as run:\n",
    "        print(\"runId:\",run.info.run_uuid)\n",
    "        print(\"artifact_uri:\",mlflow.get_artifact_uri())\n",
    "        print(\"alpha:\",alpha)\n",
    "        print(\"log_artifact:\",log_artifact)\n",
    "        print(\"run_origin:\",run_origin)\n",
    "        mlflow.log_param(\"alpha\", alpha)\n",
    "        mlflow.log_metric(\"auroch\", 0.123)\n",
    "        mlflow.set_tag(\"run_origin\", run_origin)\n",
    "        mlflow.set_tag(\"log_artifact\", log_artifact)\n",
    "        if log_artifact:\n",
    "            with open(\"info.txt\", \"w\") as f:\n",
    "                f.write(\"Hi artifact\")\n",
    "            mlflow.log_artifact(\"info.txt\")"
   ]
  },
  {
   "cell_type": "code",
   "execution_count": 4,
   "metadata": {},
   "outputs": [
    {
     "name": "stdout",
     "output_type": "stream",
     "text": [
      "runId: 8b32a8c6e8b54d07928fea533f4131d5\n",
      "artifact_uri: /Users/ander/work/mlflow/server/local_mlrun/mlruns/0/8b32a8c6e8b54d07928fea533f4131d5/artifacts\n",
      "alpha: 0.1\n",
      "log_artifact: True\n",
      "run_origin: jupyter\n"
     ]
    }
   ],
   "source": [
    "run(\"0.1\",\"jupyter\",True)"
   ]
  }
 ],
 "metadata": {
  "kernelspec": {
   "display_name": "mlflow-1.0.0",
   "language": "python",
   "name": "mlflow-1.0.0"
  },
  "language_info": {
   "codemirror_mode": {
    "name": "ipython",
    "version": 3
   },
   "file_extension": ".py",
   "mimetype": "text/x-python",
   "name": "python",
   "nbconvert_exporter": "python",
   "pygments_lexer": "ipython3",
   "version": "3.6.8"
  }
 },
 "nbformat": 4,
 "nbformat_minor": 2
}
