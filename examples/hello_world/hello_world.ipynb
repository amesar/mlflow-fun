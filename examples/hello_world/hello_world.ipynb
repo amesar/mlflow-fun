{
 "cells": [
  {
   "cell_type": "code",
   "execution_count": 16,
   "metadata": {},
   "outputs": [
    {
     "name": "stdout",
     "output_type": "stream",
     "text": [
      "MLflow Version: 0.8.1\n"
     ]
    }
   ],
   "source": [
    "from __future__ import print_function\n",
    "import mlflow\n",
    "print(\"MLflow Version:\", mlflow.version.VERSION)"
   ]
  },
  {
   "cell_type": "code",
   "execution_count": 17,
   "metadata": {},
   "outputs": [
    {
     "data": {
      "text/plain": [
       "'http://localhost:5000'"
      ]
     },
     "execution_count": 17,
     "metadata": {},
     "output_type": "execute_result"
    }
   ],
   "source": [
    "# Either set the following in your terminal:\n",
    "#   export MLFLOW_TRACKING_URI=http://localhost:5000\n",
    "# or use the following: \n",
    "mlflow.set_tracking_uri(\"http://localhost:5000\")\n",
    "\n",
    "mlflow.tracking.get_tracking_uri()"
   ]
  },
  {
   "cell_type": "code",
   "execution_count": 18,
   "metadata": {},
   "outputs": [],
   "source": [
    "def run(alpha, run_origin, log_artifact):\n",
    "    with mlflow.start_run(run_name=run_origin) as run:\n",
    "        print(\"runId:\",run.info.run_uuid)\n",
    "        print(\"artifact_uri:\",mlflow.get_artifact_uri())\n",
    "        print(\"alpha:\",alpha)\n",
    "        print(\"log_artifact:\",log_artifact)\n",
    "        print(\"run_origin:\",run_origin)\n",
    "        mlflow.log_param(\"alpha\", alpha)\n",
    "        mlflow.log_metric(\"auroch\", 0.123)\n",
    "        mlflow.set_tag(\"run_origin\", run_origin)\n",
    "        mlflow.set_tag(\"log_artifact\", log_artifact)\n",
    "        if log_artifact:\n",
    "            with open(\"info.txt\", \"w\") as f:\n",
    "                f.write(\"Hi artifact\")\n",
    "            mlflow.log_artifact(\"info.txt\")"
   ]
  },
  {
   "cell_type": "code",
   "execution_count": 20,
   "metadata": {},
   "outputs": [
    {
     "name": "stdout",
     "output_type": "stream",
     "text": [
      "runId: 7a7e633e042b49eaa6a8430accec6a85\n",
      "artifact_uri: /Users/ander/work/mlflow/local_mlrun/mlruns/0/7a7e633e042b49eaa6a8430accec6a85/artifacts\n",
      "alpha: 0.1\n",
      "log_artifact: True\n",
      "run_origin: jupyter\n"
     ]
    }
   ],
   "source": [
    "run(\"0.1\",\"jupyter\",True)"
   ]
  },
  {
   "cell_type": "code",
   "execution_count": null,
   "metadata": {},
   "outputs": [],
   "source": []
  }
 ],
 "metadata": {
  "kernelspec": {
   "display_name": "Python 2",
   "language": "python",
   "name": "python2"
  },
  "language_info": {
   "codemirror_mode": {
    "name": "ipython",
    "version": 2
   },
   "file_extension": ".py",
   "mimetype": "text/x-python",
   "name": "python",
   "nbconvert_exporter": "python",
   "pygments_lexer": "ipython2",
   "version": "2.7.14"
  }
 },
 "nbformat": 4,
 "nbformat_minor": 2
}
